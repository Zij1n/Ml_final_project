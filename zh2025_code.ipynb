{
  "cells": [
    {
      "cell_type": "code",
      "execution_count": null,
      "metadata": {
        "id": "3IKHZts-TIPz"
      },
      "outputs": [],
      "source": [
        "from fastai.vision import *\n",
        "import torch.nn as nn\n",
        "import torch.nn.functional as F\n",
        "import torch.optim as optim\n",
        "from torchvision import datasets, transforms\n",
        "import matplotlib.pyplot as plt\n",
        "import cv2\n",
        "from PIL import Image\n",
        "import os\n",
        "import numpy as np\n",
        "import pickle as pkl\n",
        "import torch\n",
        "from torchvision.utils import save_image\n",
        "from sklearn.model_selection import KFold\n",
        "import random\n",
        "import torch\n",
        "from torch.utils.data import Dataset, DataLoader,TensorDataset,random_split,SubsetRandomSampler, ConcatDataset\n",
        "from torch.nn import functional as F\n",
        "import torchvision\n",
        "from torchvision import datasets,transforms\n",
        "import torchvision.transforms as transforms\n",
        "from sklearn.metrics import precision_score\n",
        "DATA_PATH=\"/content/lazydata/\""
      ]
    },
    {
      "cell_type": "code",
      "execution_count": null,
      "metadata": {
        "colab": {
          "base_uri": "https://localhost:8080/"
        },
        "id": "sn7d7NbLUBdb",
        "outputId": "2828397a-7fe4-493f-97ac-021f4bf080df"
      },
      "outputs": [
        {
          "name": "stdout",
          "output_type": "stream",
          "text": [
            "Drive already mounted at /content/drive; to attempt to forcibly remount, call drive.mount(\"/content/drive\", force_remount=True).\n",
            "Thu Dec 15 02:29:54 2022       \n",
            "+-----------------------------------------------------------------------------+\n",
            "| NVIDIA-SMI 460.32.03    Driver Version: 460.32.03    CUDA Version: 11.2     |\n",
            "|-------------------------------+----------------------+----------------------+\n",
            "| GPU  Name        Persistence-M| Bus-Id        Disp.A | Volatile Uncorr. ECC |\n",
            "| Fan  Temp  Perf  Pwr:Usage/Cap|         Memory-Usage | GPU-Util  Compute M. |\n",
            "|                               |                      |               MIG M. |\n",
            "|===============================+======================+======================|\n",
            "|   0  A100-SXM4-40GB      Off  | 00000000:00:04.0 Off |                    0 |\n",
            "| N/A   33C    P0    50W / 400W |      0MiB / 40536MiB |      0%      Default |\n",
            "|                               |                      |             Disabled |\n",
            "+-------------------------------+----------------------+----------------------+\n",
            "                                                                               \n",
            "+-----------------------------------------------------------------------------+\n",
            "| Processes:                                                                  |\n",
            "|  GPU   GI   CI        PID   Type   Process name                  GPU Memory |\n",
            "|        ID   ID                                                   Usage      |\n",
            "|=============================================================================|\n",
            "|  No running processes found                                                 |\n",
            "+-----------------------------------------------------------------------------+\n"
          ]
        }
      ],
      "source": [
        "from google.colab import drive\n",
        "drive.mount('/content/drive')\n",
        "torch.cuda.empty_cache() \n",
        "!nvidia-smi"
      ]
    },
    {
      "cell_type": "code",
      "execution_count": null,
      "metadata": {
        "colab": {
          "base_uri": "https://localhost:8080/"
        },
        "id": "z6dlSDNIESwh",
        "outputId": "41ecabfc-c47c-492b-f745-6594963882ab"
      },
      "outputs": [
        {
          "name": "stdout",
          "output_type": "stream",
          "text": [
            "Archive:  /content/drive/MyDrive/ml/testX.pt.zip\n",
            "replace /content/testX.pt? [y]es, [n]o, [A]ll, [N]one, [r]ename: N\n"
          ]
        }
      ],
      "source": [
        "!unzip /content/drive/MyDrive/ml/testX.pt.zip -d /content/ "
      ]
    },
    {
      "cell_type": "code",
      "execution_count": null,
      "metadata": {
        "colab": {
          "base_uri": "https://localhost:8080/"
        },
        "id": "g4RnlNcIV3LT",
        "outputId": "d26d7c75-2483-4862-a5ab-cca89011bac9"
      },
      "outputs": [
        {
          "name": "stdout",
          "output_type": "stream",
          "text": [
            "Archive:  /content/drive/MyDrive/ml/lazydata-20221208T200112Z-001.zip\n",
            "replace /content/lazydata/test/X/561/field_id.pkl? [y]es, [n]o, [A]ll, [N]one, [r]ename: N\n"
          ]
        }
      ],
      "source": [
        "!unzip /content/drive/MyDrive/ml/lazydata-20221208T200112Z-001.zip -d /content/ "
      ]
    },
    {
      "cell_type": "code",
      "execution_count": null,
      "metadata": {
        "id": "yYTkFL6kTIP1"
      },
      "outputs": [],
      "source": [
        "class LazyLoadDataset(Dataset):\n",
        "    def trim(depth):\n",
        "        equalized = cv2.equalizeHist(depth)\n",
        "\n",
        "        min_val, max_val, min_loc, max_loc = cv2.minMaxLoc(equalized)\n",
        "\n",
        "        # Set the lower and upper thresholds for trimming\n",
        "        lower_threshold = min_val + 0.05 * (max_val - min_val)\n",
        "        upper_threshold = max_val - 0.05 * (max_val - min_val)\n",
        "\n",
        "        # Discard the top and bottom 5% of the data\n",
        "        trimmed = cv2.threshold(equalized, lower_threshold, upper_threshold, 0)\n",
        "\n",
        "        # Find the new minimum and maximum intensity values\n",
        "        min_val, max_val, min_loc, max_loc = cv2.minMaxLoc(trimmed)\n",
        "\n",
        "        # Perform min-max normalization\n",
        "        normalized = cv2.normalize(trimmed, None, alpha=0, beta=1, norm_type=cv2.NORM_MINMAX)\n",
        "    def __init__(self,path,train=True,transform=None):\n",
        "        self.transform=transform\n",
        "        path=path+(\"train/\" if train else \"test/\")\n",
        "        \n",
        "        self.pathX=path+\"X/\"\n",
        "        self.pathY=path+\"Y/\"\n",
        "        \n",
        "        self.data=os.listdir(self.pathX)\n",
        "        \n",
        "    def __getitem__(self,idx):\n",
        "        f=self.data[idx]\n",
        "        \n",
        "        #X\n",
        "        #read rgb images\n",
        "        img0=cv2.imread(self.pathX+f+\"/rgb/0.png\")\n",
        "        img1=cv2.imread(self.pathX+f+\"/rgb/1.png\")\n",
        "        img2=cv2.imread(self.pathX+f+\"/rgb/2.png\")\n",
        "        if self.transform is not None:\n",
        "            img0=self.transform(Image.fromarray(img0))\n",
        "            img1=self.transform(Image.fromarray(img1))\n",
        "            img2=self.transform(Image.fromarray(img2))\n",
        "     \n",
        "        depth=np.load(self.pathX+f+\"/depth.npy\")\n",
        "      \n",
        "        field_id=pkl.load(open(self.pathX+f+\"/field_id.pkl\",\"rb\"))\n",
        "     \n",
        "        Y=np.load(self.pathY+f+\".npy\")\n",
        "        \n",
        "        return (img0,img1,img2,depth/1000,field_id),Y*1000\n",
        "    def __len__(self):\n",
        "        return len(self.data)"
      ]
    },
    {
      "cell_type": "code",
      "execution_count": null,
      "metadata": {
        "id": "_dIi70HtTIP2"
      },
      "outputs": [],
      "source": [
        "def train(epoch, model, optimizer):\n",
        "    model.train()\n",
        "    losss=[]\n",
        "    for batch_idx, (data, target) in enumerate(train_loader):#inside loop: shape of data is [64,224,224,9] target is [64,12]\n",
        "\n",
        "\n",
        "        RGBs=torch.stack((data[0][:,0,:,:],data[0][:,1,:,:],data[0][:,2,:,:],data[1][:,0,:,:],data[1][:,1,:,:],data[1][:,2,:,:],data[2][:,0,:,:],data[2][:,1,:,:],data[2][:,2,:,:]),1)\n",
        "        depth=data[3]\n",
        "        depth=(depth-min_d)/(max_d-min_d)\n",
        "        data=torch.cat((RGBs,depth), 1)\n",
        "        data, target = data.to(device), target.to(device)\n",
        "\n",
        "        output = model(data)\n",
        "        mse_loss = nn.MSELoss()\n",
        "        loss = mse_loss(output.float(), target.float())\n",
        "\n",
        "        optimizer.zero_grad()\n",
        "        loss.backward()\n",
        "        optimizer.step()\n",
        "        losss.append(loss.item())\n",
        "    print(np.mean(losss))\n"
      ]
    },
    {
      "cell_type": "code",
      "execution_count": null,
      "metadata": {
        "id": "kHbilRFrTIP2"
      },
      "outputs": [],
      "source": [
        "transforms_train = transforms.Compose([\n",
        "    transforms.ColorJitter(brightness=.3,contrast=0.3,hue=.3), \n",
        "    transforms.ToTensor(),\n",
        "    transforms.Normalize([0.5, 0.5, 0.5], [0.5, 0.5, 0.5]) \n",
        "])"
      ]
    },
    {
      "cell_type": "code",
      "execution_count": null,
      "metadata": {
        "id": "-CBXxDVOCq3E"
      },
      "outputs": [],
      "source": [
        "def get_min_and_max_depth(data):\n",
        "  min_depth, max_depth = float(\"inf\"),0\n",
        "  for image, tmp in data:\n",
        "    img0, img1, img2, depth, field_id = image\n",
        "    single_min = np.mean(depth)\n",
        "    single_max = np.max(depth)\n",
        "    min_depth=single_min if single_min<min_depth else min_depth\n",
        "    max_depth=single_max if single_min>max_depth else max_depth\n",
        "  return min_depth, max_depth"
      ]
    },
    {
      "cell_type": "code",
      "execution_count": null,
      "metadata": {
        "id": "4J4ClH85TIP2"
      },
      "outputs": [],
      "source": [
        "tmp_data=LazyLoadDataset(DATA_PATH,True)\n",
        "min_d,max_d=get_min_and_max_depth(tmp_data)\n",
        "train_dataset=LazyLoadDataset(DATA_PATH,True, transforms_train)\n",
        "train_loader = torch.utils.data.DataLoader(train_dataset, batch_size=32, shuffle=True)"
      ]
    },
    {
      "cell_type": "code",
      "execution_count": null,
      "metadata": {
        "colab": {
          "base_uri": "https://localhost:8080/"
        },
        "id": "yFdE2jm_jzik",
        "outputId": "ac0b543d-2f7e-40f2-ab1b-3a1c5cf4b0ca"
      },
      "outputs": [
        {
          "data": {
            "text/plain": [
              "(0.82528, 65.535)"
            ]
          },
          "execution_count": 26,
          "metadata": {},
          "output_type": "execute_result"
        }
      ],
      "source": [
        "(min_d,max_d)"
      ]
    },
    {
      "cell_type": "code",
      "execution_count": null,
      "metadata": {
        "colab": {
          "base_uri": "https://localhost:8080/",
          "height": 286
        },
        "id": "hm1jfjiY8QzX",
        "outputId": "c5c8f08d-cdae-46e8-8df4-7d91148ac1d3"
      },
      "outputs": [
        {
          "data": {
            "text/plain": [
              "<matplotlib.colorbar.Colorbar at 0x7f7e71fd0580>"
            ]
          },
          "execution_count": 11,
          "metadata": {},
          "output_type": "execute_result"
        },
        {
          "data": {
            "image/png": "[encoded data removed]",
            "text/plain": [
              "<Figure size 432x288 with 2 Axes>"
            ]
          },
          "metadata": {
            "needs_background": "light"
          },
          "output_type": "display_data"
        }
      ],
      "source": [
        "plt.imshow(train_dataset[121][0][3][0])\n",
        "plt.colorbar()"
      ]
    },
    {
      "cell_type": "code",
      "execution_count": null,
      "metadata": {
        "colab": {
          "base_uri": "https://localhost:8080/"
        },
        "id": "Ri3ys29fTIP4",
        "outputId": "e4e2f1be-d2eb-47ef-9222-16c5f48557fc"
      },
      "outputs": [
        {
          "name": "stderr",
          "output_type": "stream",
          "text": [
            "/usr/local/lib/python3.8/dist-packages/torchvision/models/_utils.py:208: UserWarning: The parameter 'pretrained' is deprecated since 0.13 and may be removed in the future, please use 'weights' instead.\n",
            "  warnings.warn(\n",
            "/usr/local/lib/python3.8/dist-packages/torchvision/models/_utils.py:223: UserWarning: Arguments other than a weight enum or `None` for 'weights' are deprecated since 0.13 and may be removed in the future. The current behavior is equivalent to passing `weights=ResNet152_Weights.IMAGENET1K_V1`. You can also use `weights=ResNet152_Weights.DEFAULT` to get the most up-to-date weights.\n",
            "  warnings.warn(msg)\n"
          ]
        }
      ],
      "source": [
        "device = torch.device(\"cuda\" if torch.cuda.is_available() else \"cpu\")\n",
        "\n",
        "model = torchvision.models.resnet152(pretrained=True)   \n",
        "weight=model.conv1.weight.clone()\n",
        "model.conv1 = nn.Conv2d(12, 64, kernel_size=7)\n",
        "with torch.no_grad():\n",
        "    model.conv1.weight[:,:3]=weight\n",
        "    model.conv1.weight[:,3]=model.conv1.weight[:,0]\n",
        "num_features = model.fc.in_features    \n",
        "model.fc = nn.Linear(num_features, 12) \n",
        "model=nn.DataParallel(model)\n",
        "model.to(device)\n",
        "criterion = nn.MSELoss()  #(set loss function)\n",
        "# optimizer = optim.SGD(model.parameters(), lr=0.001, momentum=0.5)\n",
        "optimizer=torch.optim.Adam(model.parameters(), lr=0.001)\n",
        "# lr_scheduler = torch.optim.lr_scheduler.StepLR(optimizer,\n",
        "#                                                    step_size=1,\n",
        "#                                                    gamma=0.1)"
      ]
    },
    {
      "cell_type": "code",
      "execution_count": null,
      "metadata": {
        "colab": {
          "base_uri": "https://localhost:8080/",
          "height": 418
        },
        "id": "P5G1uejmTIP4",
        "outputId": "5dc3cd12-5ee0-4275-a794-da8c9cecb275"
      },
      "outputs": [],
      "source": [
        "torch.cuda.empty_cache()\n",
        "for epoch in range(0, 70):\n",
        "    train(epoch, model, optimizer)\n",
        "#     lr_scheduler.step()\n",
        "#     test(model)"
      ]
    },
    {
      "cell_type": "code",
      "execution_count": null,
      "metadata": {
        "id": "e5y7iEfuqGfY"
      },
      "outputs": [],
      "source": [
        "    # for batch_idx, (data, target) in enumerate(train_loader):#inside loop: shape of data is [64,224,224,9] target is [64,12]\n",
        "\n",
        "\n",
        "    #     RGBs=torch.stack((data[0][:,0,:,:],data[0][:,1,:,:],data[0][:,2,:,:],data[1][:,0,:,:],data[1][:,1,:,:],data[1][:,2,:,:],data[2][:,0,:,:],data[2][:,1,:,:],data[2][:,2,:,:]),1)\n",
        "    #     depth=data[3]\n",
        "    #     depth=(depth-min_d)/(max_d-min_d)\n",
        "    #     print(depth)\n",
        "    #     break"
      ]
    },
    {
      "cell_type": "code",
      "execution_count": null,
      "metadata": {
        "id": "vWM9EUbaQkdH"
      },
      "outputs": [],
      "source": [
        "open(\"/content/model\",\"w\")\n",
        "torch.save(model, \"/content/model\")\n"
      ]
    },
    {
      "cell_type": "code",
      "execution_count": null,
      "metadata": {
        "id": "frpC4SMMR1Dg"
      },
      "outputs": [],
      "source": [
        "# model = torch.load(\"/content/model\")"
      ]
    },
    {
      "cell_type": "code",
      "execution_count": null,
      "metadata": {
        "id": "7tlwSEFDTIP4"
      },
      "outputs": [],
      "source": [
        "# class LazyLoadDataset_test(Dataset):\n",
        "#     def __init__(self,path,train=True,transform=None):\n",
        "#         self.transform=transform\n",
        "#         path=path+(\"test/\")\n",
        "        \n",
        "#         self.pathX=path+\"X/\"\n",
        "     \n",
        "        \n",
        "#         self.data=os.listdir(self.pathX)\n",
        "        \n",
        "#     def __getitem__(self,idx):\n",
        "#         f=self.data[idx]\n",
        "        \n",
        "#         #X\n",
        "#         #read rgb images\n",
        "#         img0=cv2.imread(self.pathX+f+\"/rgb/0.png\")\n",
        "#         img1=cv2.imread(self.pathX+f+\"/rgb/1.png\")\n",
        "#         img2=cv2.imread(self.pathX+f+\"/rgb/2.png\")\n",
        "#         if self.transform is not None:\n",
        "#             img0=self.transform(Image.fromarray(img0))\n",
        "#             img1=self.transform(Image.fromarray(img1))\n",
        "#             img2=self.transform(Image.fromarray(img2))\n",
        "#         #read image depth\n",
        "#         depth=np.load(self.pathX+f+\"/depth.npy\")\n",
        "#         #read field ID\n",
        "        \n",
        "#         field_id=pkl.load(open(self.pathX+f+\"/field_id.pkl\",\"rb\"))\n",
        "#         #Y\n",
        "       \n",
        "        \n",
        "# #         #normalize rgb 0-255\n",
        "# #         img0=cv2.normalize(img0, None, alpha=0, beta=1,\n",
        "# #                              norm_type=cv2.NORM_MINMAX, dtype=cv2.CV_32F)\n",
        "# #         img1=cv2.normalize(img1, None, alpha=0, beta=1,\n",
        "# #                              norm_type=cv2.NORM_MINMAX, dtype=cv2.CV_32F)\n",
        "# #         img2=cv2.normalize(img2, None, alpha=0, beta=1,\n",
        "# #                              norm_type=cv2.NORM_MINMAX, dtype=cv2.CV_32F)\n",
        "# #         depth=cv2.normalize(depth/1000, None, alpha=0, beta=1,\n",
        "# #                              norm_type=cv2.NORM_MINMAX, dtype=cv2.CV_32F)\n",
        "        \n",
        "#         return img0,img1,img2,depth/1000,field_id\n",
        "#     def __len__(self):\n",
        "#         return len(self.data)"
      ]
    },
    {
      "cell_type": "code",
      "execution_count": null,
      "metadata": {
        "id": "0uo2h243TIP4"
      },
      "outputs": [],
      "source": [
        "# transforms_test = transforms.Compose([\n",
        "# #     transforms.ColorJitter(brightness=.3,contrast=0.3,hue=.3), # data augmentation\n",
        "#     transforms.ToTensor(),\n",
        "#     # transforms.Normalize([0.5, 0.5, 0.5], [0.5, 0.5, 0.5]) # normalization\n",
        "# ])\n",
        "# test_d=LazyLoadDataset_test(DATA_PATH,True, transforms_test)\n",
        "# test_loader = torch.utils.data.DataLoader(test_d, batch_size=1, shuffle=False)\n"
      ]
    },
    {
      "cell_type": "markdown",
      "metadata": {
        "id": "jav_46bgzYDO"
      },
      "source": []
    },
    {
      "cell_type": "code",
      "execution_count": null,
      "metadata": {
        "id": "mp0gJMHPTIP5"
      },
      "outputs": [],
      "source": [
        "from tqdm import tqdm"
      ]
    },
    {
      "cell_type": "code",
      "execution_count": null,
      "metadata": {
        "id": "idO7RM27Uw93"
      },
      "outputs": [],
      "source": [
        "\n",
        "\n",
        "def normalize_tensor(tensor):\n",
        "    mean = tensor.mean()\n",
        "    std = tensor.std()\n",
        "    normalized_tensor = (tensor - mean) / std\n",
        "    normalized_tensor = 0.5 * (normalized_tensor / 0.5) + 0.5\n",
        "\n",
        "    return normalized_tensor\n"
      ]
    },
    {
      "cell_type": "code",
      "execution_count": null,
      "metadata": {
        "id": "RHY4ltPITIP5"
      },
      "outputs": [],
      "source": [
        "# preds = []\n",
        "# file_ids=[]\n",
        "# for (data) in tqdm(test_loader):#inside loop: shape of data is [64,224,224,9] target is [64,12]\n",
        "#         # send to device\n",
        "#         #reshape data from [64,224,224,9] to [64,9,224,224]\n",
        "\n",
        "#         RGBs=torch.stack((data[0][:,0,:,:],data[0][:,1,:,:],data[0][:,2,:,:],\n",
        "#                           data[1][:,0,:,:],data[1][:,1,:,:],data[1][:,2,:,:],\n",
        "#                           data[2][:,0,:,:],data[2][:,1,:,:],data[2][:,2,:,:]),1)\n",
        "#         #concate depth\n",
        "#         inn=torch.cat((RGBs,data[3]), 1)\n",
        "        \n",
        "#         # data = data.to(device)\n",
        "\n",
        "#         output = model(inn)\n",
        "#         preds.append(output.cpu().detach().numpy())\n",
        "#         file_ids.append(data[-1][0])"
      ]
    },
    {
      "cell_type": "code",
      "execution_count": null,
      "metadata": {
        "colab": {
          "base_uri": "https://localhost:8080/"
        },
        "id": "MVDd6ZHLTIP5",
        "outputId": "7d6e2c98-e3bb-4b99-bb5b-97be076157c2"
      },
      "outputs": [
        {
          "data": {
            "text/plain": [
              "torch.Size([849, 3, 224, 224])"
            ]
          },
          "execution_count": 42,
          "metadata": {},
          "output_type": "execute_result"
        }
      ],
      "source": [
        "test_data = torch.load('/content/testX.pt')\n",
        "file_ids = test_data[-1]\n",
        "depth_data=test_data[1]/1000\n",
        "depth_data=(depth_data-min_d)/(max_d-min_d)\n",
        "rgb_data = test_data[0]\n",
        "rgb_data[:,0]=normalize_tensor(rgb_data[:,0])\n",
        "rgb_data[:,1]=normalize_tensor(rgb_data[:,1])\n",
        "rgb_data[:,2]=normalize_tensor(rgb_data[:,2])\n",
        "new_test=torch.cat((rgb_data[:,0],rgb_data[:,1],rgb_data[:,2],depth_data),dim=1)\n",
        "rgb_data[:,2].shape"
      ]
    },
    {
      "cell_type": "code",
      "execution_count": null,
      "metadata": {
        "id": "oH9Yy2yJmKRk"
      },
      "outputs": [],
      "source": [
        "# aa=test_data[1]/1000\n",
        "# bb=(aa-min_d)/(max_d-min_d)\n",
        "# bb"
      ]
    },
    {
      "cell_type": "code",
      "execution_count": null,
      "metadata": {
        "colab": {
          "base_uri": "https://localhost:8080/"
        },
        "id": "JsrzJhjZlT5y",
        "outputId": "0bce3457-9d01-4ecb-ab52-11def1653611"
      },
      "outputs": [
        {
          "data": {
            "text/plain": [
              "tensor([[[[ 0.0023,  0.0023,  0.0023,  ...,  0.0023,  0.0023,  0.0023],\n",
              "          [ 0.0023,  0.0023,  0.0023,  ...,  0.0023,  0.0023,  0.0023],\n",
              "          [ 0.0023,  0.0023,  0.0023,  ...,  0.0023,  0.0023,  0.0023],\n",
              "          ...,\n",
              "          [ 0.0020,  0.0021,  0.0021,  ...,  0.0023,  0.0023,  0.0023],\n",
              "          [ 0.0019,  0.0020,  0.0021,  ...,  0.0022,  0.0022,  0.0023],\n",
              "          [ 0.0019,  0.0020,  0.0021,  ...,  0.0022,  0.0022,  0.0022]],\n",
              "\n",
              "         [[ 0.0157, -0.0128, -0.0128,  ..., -0.0128, -0.0128, -0.0128],\n",
              "          [ 0.0157, -0.0128, -0.0128,  ..., -0.0128, -0.0128, -0.0128],\n",
              "          [ 0.0159, -0.0128, -0.0128,  ..., -0.0128, -0.0128, -0.0128],\n",
              "          ...,\n",
              "          [ 0.0017,  0.0017,  0.0018,  ...,  0.0008,  0.0008,  0.0008],\n",
              "          [ 0.0017,  0.0017,  0.0018,  ...,  0.0008,  0.0008,  0.0008],\n",
              "          [ 0.0017,  0.0017,  0.0018,  ...,  0.0008,  0.0008,  0.0008]],\n",
              "\n",
              "         [[ 0.0235,  0.0228,  0.0224,  ...,  0.0466,  0.0469,  0.0472],\n",
              "          [ 0.0232,  0.0227,  0.0224,  ...,  0.0465,  0.0466,  0.0468],\n",
              "          [ 0.0231,  0.0226,  0.0224,  ...,  0.0462,  0.0463,  0.0466],\n",
              "          ...,\n",
              "          [ 0.0027,  0.0027,  0.0027,  ...,  0.0002,  0.0002,  0.0002],\n",
              "          [ 0.0026,  0.0026,  0.0027,  ...,  0.0002,  0.0002,  0.0002],\n",
              "          [ 0.0026,  0.0026,  0.0026,  ...,  0.0003,  0.0003,  0.0003]]],\n",
              "\n",
              "\n",
              "        [[[ 0.0023,  0.0023,  0.0023,  ...,  0.0023,  0.0023,  0.0024],\n",
              "          [ 0.0023,  0.0023,  0.0023,  ...,  0.0023,  0.0023,  0.0024],\n",
              "          [ 0.0023,  0.0023,  0.0023,  ...,  0.0023,  0.0024,  0.0024],\n",
              "          ...,\n",
              "          [ 0.0020,  0.0021,  0.0021,  ...,  0.0022,  0.0022,  0.0022],\n",
              "          [ 0.0019,  0.0020,  0.0021,  ...,  0.0022,  0.0022,  0.0022],\n",
              "          [ 0.0019,  0.0019,  0.0020,  ...,  0.0022,  0.0022,  0.0022]],\n",
              "\n",
              "         [[-0.0128, -0.0128, -0.0128,  ..., -0.0128, -0.0128, -0.0128],\n",
              "          [-0.0128, -0.0128, -0.0128,  ..., -0.0128, -0.0128, -0.0128],\n",
              "          [-0.0128, -0.0128, -0.0128,  ..., -0.0128, -0.0128, -0.0128],\n",
              "          ...,\n",
              "          [-0.0019,  0.0017,  0.0017,  ...,  0.0005,  0.0005,  0.0005],\n",
              "          [-0.0018,  0.0017,  0.0017,  ...,  0.0005,  0.0005,  0.0005],\n",
              "          [-0.0018,  0.0017,  0.0017,  ...,  0.0004,  0.0004,  0.0004]],\n",
              "\n",
              "         [[ 0.0273,  0.0276,  0.0276,  ...,  0.0483,  0.0483,  0.0483],\n",
              "          [ 0.0278,  0.0280,  0.0281,  ...,  0.0479,  0.0481,  0.0479],\n",
              "          [ 0.0282,  0.0283,  0.0282,  ...,  0.0477,  0.0478,  0.0478],\n",
              "          ...,\n",
              "          [ 0.0027,  0.0027,  0.0027,  ...,  0.0021,  0.0021,  0.0022],\n",
              "          [ 0.0027,  0.0027,  0.0027,  ..., -0.0128, -0.0128,  0.0022],\n",
              "          [ 0.0027,  0.0027,  0.0026,  ...,  0.0050,  0.0050, -0.0128]]],\n",
              "\n",
              "\n",
              "        [[[ 0.0023,  0.0023,  0.0023,  ...,  0.0023,  0.0023,  0.0023],\n",
              "          [ 0.0023,  0.0023,  0.0023,  ...,  0.0023,  0.0023,  0.0023],\n",
              "          [ 0.0023,  0.0023,  0.0023,  ...,  0.0023,  0.0023,  0.0023],\n",
              "          ...,\n",
              "          [ 0.0020,  0.0021,  0.0021,  ...,  0.0023,  0.0023,  0.0023],\n",
              "          [ 0.0019,  0.0020,  0.0021,  ...,  0.0023,  0.0023,  0.0023],\n",
              "          [ 0.0018,  0.0019,  0.0021,  ...,  0.0023,  0.0023,  0.0023]],\n",
              "\n",
              "         [[ 0.0142,  0.0142,  0.0143,  ..., -0.0128, -0.0128, -0.0128],\n",
              "          [ 0.0140,  0.0142,  0.0143,  ..., -0.0128, -0.0128, -0.0128],\n",
              "          [ 0.0143,  0.0146,  0.0147,  ..., -0.0128, -0.0128, -0.0128],\n",
              "          ...,\n",
              "          [ 0.0017,  0.0017,  0.0018,  ...,  0.0008,  0.0008,  0.0008],\n",
              "          [ 0.0017,  0.0017,  0.0018,  ...,  0.0008,  0.0008,  0.0008],\n",
              "          [ 0.0017,  0.0017,  0.0018,  ...,  0.0008,  0.0008,  0.0008]],\n",
              "\n",
              "         [[ 0.0228,  0.0225,  0.0224,  ...,  0.0472,  0.0474,  0.0477],\n",
              "          [ 0.0228,  0.0226,  0.0225,  ...,  0.0468,  0.0469,  0.0472],\n",
              "          [ 0.0228,  0.0226,  0.0225,  ...,  0.0463,  0.0465,  0.0468],\n",
              "          ...,\n",
              "          [ 0.0027,  0.0027,  0.0027,  ...,  0.0002,  0.0002,  0.0002],\n",
              "          [ 0.0026,  0.0027,  0.0027,  ...,  0.0002,  0.0002,  0.0002],\n",
              "          [ 0.0026,  0.0026,  0.0026,  ...,  0.0003,  0.0003,  0.0003]]],\n",
              "\n",
              "\n",
              "        ...,\n",
              "\n",
              "\n",
              "        [[[ 0.0023,  0.0023,  0.0023,  ...,  0.0023,  0.0023,  0.0023],\n",
              "          [ 0.0023,  0.0023,  0.0023,  ...,  0.0023,  0.0023,  0.0023],\n",
              "          [ 0.0023,  0.0023,  0.0023,  ...,  0.0023,  0.0023,  0.0023],\n",
              "          ...,\n",
              "          [ 0.0019,  0.0020,  0.0021,  ...,  0.0022,  0.0023,  0.0023],\n",
              "          [ 0.0019,  0.0019,  0.0020,  ...,  0.0022,  0.0022,  0.0022],\n",
              "          [ 0.0018,  0.0019,  0.0019,  ...,  0.0022,  0.0022,  0.0022]],\n",
              "\n",
              "         [[-0.0128, -0.0128, -0.0128,  ..., -0.0128, -0.0128, -0.0128],\n",
              "          [-0.0128, -0.0128, -0.0128,  ..., -0.0128, -0.0128, -0.0128],\n",
              "          [-0.0128, -0.0128, -0.0128,  ..., -0.0128, -0.0128, -0.0128],\n",
              "          ...,\n",
              "          [-0.0020,  0.0018,  0.0018,  ...,  0.0006,  0.0005,  0.0005],\n",
              "          [-0.0019,  0.0017,  0.0017,  ...,  0.0005,  0.0005,  0.0005],\n",
              "          [-0.0018,  0.0017,  0.0017,  ...,  0.0005,  0.0005,  0.0005]],\n",
              "\n",
              "         [[ 0.0229,  0.0228,  0.0228,  ...,  0.0479,  0.0481,  0.0483],\n",
              "          [ 0.0225,  0.0225,  0.0225,  ...,  0.0478,  0.0478,  0.0479],\n",
              "          [ 0.0224,  0.0224,  0.0223,  ...,  0.0474,  0.0475,  0.0477],\n",
              "          ...,\n",
              "          [ 0.0027,  0.0027,  0.0027,  ..., -0.0128,  0.0021,  0.0022],\n",
              "          [ 0.0027,  0.0027,  0.0027,  ..., -0.0128, -0.0128, -0.0128],\n",
              "          [ 0.0027,  0.0027,  0.0027,  ...,  0.0050,  0.0051,  0.0051]]],\n",
              "\n",
              "\n",
              "        [[[ 0.0023,  0.0023,  0.0023,  ...,  0.0023,  0.0023,  0.0023],\n",
              "          [ 0.0023,  0.0023,  0.0023,  ...,  0.0023,  0.0023,  0.0023],\n",
              "          [ 0.0023,  0.0023,  0.0023,  ...,  0.0023,  0.0023,  0.0023],\n",
              "          ...,\n",
              "          [ 0.0021,  0.0021,  0.0022,  ...,  0.0022,  0.0022,  0.0023],\n",
              "          [ 0.0020,  0.0021,  0.0021,  ...,  0.0022,  0.0022,  0.0023],\n",
              "          [ 0.0020,  0.0021,  0.0021,  ...,  0.0022,  0.0022,  0.0023]],\n",
              "\n",
              "         [[ 0.0144,  0.0146,  0.0148,  ..., -0.0128, -0.0128, -0.0128],\n",
              "          [ 0.0145,  0.0147,  0.0149,  ..., -0.0128, -0.0128, -0.0128],\n",
              "          [ 0.0145,  0.0148,  0.0152,  ..., -0.0128, -0.0128, -0.0128],\n",
              "          ...,\n",
              "          [ 0.0017,  0.0017,  0.0017,  ...,  0.0008,  0.0008,  0.0008],\n",
              "          [ 0.0017,  0.0017,  0.0017,  ...,  0.0008,  0.0008,  0.0008],\n",
              "          [ 0.0017,  0.0017,  0.0018,  ...,  0.0008,  0.0008,  0.0008]],\n",
              "\n",
              "         [[ 0.0235,  0.0231,  0.0228,  ...,  0.0479,  0.0481,  0.0484],\n",
              "          [ 0.0237,  0.0232,  0.0228,  ...,  0.0477,  0.0479,  0.0479],\n",
              "          [ 0.0240,  0.0234,  0.0228,  ...,  0.0474,  0.0477,  0.0477],\n",
              "          ...,\n",
              "          [ 0.0027,  0.0027,  0.0027,  ...,  0.0002,  0.0002,  0.0002],\n",
              "          [ 0.0027,  0.0027,  0.0027,  ...,  0.0002,  0.0002,  0.0002],\n",
              "          [ 0.0027,  0.0027,  0.0027,  ...,  0.0002,  0.0002,  0.0002]]],\n",
              "\n",
              "\n",
              "        [[[ 0.0023,  0.0023,  0.0023,  ...,  0.0023,  0.0023,  0.0023],\n",
              "          [ 0.0023,  0.0023,  0.0023,  ...,  0.0023,  0.0023,  0.0023],\n",
              "          [ 0.0023,  0.0023,  0.0023,  ...,  0.0023,  0.0023,  0.0023],\n",
              "          ...,\n",
              "          [ 0.0020,  0.0021,  0.0022,  ...,  0.0023,  0.0023,  0.0023],\n",
              "          [ 0.0020,  0.0021,  0.0021,  ...,  0.0023,  0.0023,  0.0023],\n",
              "          [ 0.0019,  0.0020,  0.0021,  ...,  0.0023,  0.0023,  0.0023]],\n",
              "\n",
              "         [[-0.0128, -0.0128, -0.0128,  ..., -0.0128, -0.0128, -0.0128],\n",
              "          [-0.0128, -0.0128, -0.0128,  ..., -0.0128, -0.0128, -0.0128],\n",
              "          [-0.0128, -0.0128, -0.0128,  ..., -0.0128, -0.0128, -0.0128],\n",
              "          ...,\n",
              "          [-0.0019,  0.0017,  0.0017,  ...,  0.0006,  0.0005,  0.0005],\n",
              "          [-0.0018,  0.0017,  0.0017,  ...,  0.0005,  0.0005,  0.0005],\n",
              "          [-0.0018,  0.0017,  0.0017,  ...,  0.0005,  0.0005,  0.0004]],\n",
              "\n",
              "         [[ 0.0261,  0.0260,  0.0259,  ...,  0.0475,  0.0477,  0.0477],\n",
              "          [ 0.0260,  0.0259,  0.0258,  ...,  0.0468,  0.0469,  0.0471],\n",
              "          [ 0.0258,  0.0258,  0.0256,  ...,  0.0462,  0.0463,  0.0465],\n",
              "          ...,\n",
              "          [ 0.0027,  0.0027,  0.0027,  ...,  0.0021,  0.0021,  0.0022],\n",
              "          [ 0.0027,  0.0027,  0.0027,  ..., -0.0128, -0.0128,  0.0022],\n",
              "          [ 0.0027,  0.0027,  0.0027,  ...,  0.0050,  0.0050, -0.0128]]]])"
            ]
          },
          "execution_count": 44,
          "metadata": {},
          "output_type": "execute_result"
        }
      ],
      "source": [
        "depth_data"
      ]
    },
    {
      "cell_type": "code",
      "execution_count": null,
      "metadata": {
        "colab": {
          "base_uri": "https://localhost:8080/"
        },
        "id": "oU4NvLKoTIP5",
        "outputId": "c72042c5-5936-4e0c-c7e6-c313ba3600ca"
      },
      "outputs": [
        {
          "name": "stderr",
          "output_type": "stream",
          "text": [
            "100%|██████████| 170/170 [00:07<00:00, 22.40it/s]\n"
          ]
        }
      ],
      "source": [
        "split_test=torch.split(new_test,5,dim=0)\n",
        "preds = []\n",
        "for data in tqdm(split_test):\n",
        "    # Please remember to modify this loop, input and output based on your model/architecture\n",
        "    output = model(data)\n",
        "    preds.append(output.cpu().detach().numpy()/1000)"
      ]
    },
    {
      "cell_type": "code",
      "execution_count": null,
      "metadata": {
        "id": "ibkBFsx1TIP6"
      },
      "outputs": [],
      "source": []
    },
    {
      "cell_type": "code",
      "execution_count": null,
      "metadata": {
        "colab": {
          "base_uri": "https://localhost:8080/"
        },
        "id": "XfP8Bq_NTIP6",
        "outputId": "5bf9dfec-f94b-4f2c-9a27-7d80e4a3d90e"
      },
      "outputs": [
        {
          "name": "stdout",
          "output_type": "stream",
          "text": [
            "Written to csv file /content/out.csv\n"
          ]
        }
      ],
      "source": [
        "import pickle\n",
        "import pandas as pd\n",
        "# model=model_cnn\n",
        "outfile = '/content/out.csv'\n",
        "\n",
        "output_file = open(outfile, 'w')\n",
        "\n",
        "titles = ['ID', 'FINGER_POS_1', 'FINGER_POS_2', 'FINGER_POS_3', 'FINGER_POS_4', 'FINGER_POS_5', 'FINGER_POS_6',\n",
        "         'FINGER_POS_7', 'FINGER_POS_8', 'FINGER_POS_9', 'FINGER_POS_10', 'FINGER_POS_11', 'FINGER_POS_12']\n",
        "\n",
        "# test_data = torch.load('/kaggle/input/csci-ua-473-intro-to-machine-learning-fall22/test/test/testX.pt')\n",
        "file_ids = test_data[-1]\n",
        "# depth_data=test_data[1]\n",
        "# rgb_data = test_data[0]\n",
        "# model.eval()\n",
        "# new_test=torch.cat((rgb_data[:,0],rgb_data[:,1],rgb_data[:,2],depth_data),dim=1)\n",
        "# split_test=torch.split(new_test,100,dim=0)\n",
        "# for data in split_test:\n",
        "#     # Please remember to modify this loop, input and output based on your model/architecture\n",
        "#     output = model(data.to('cuda'))\n",
        "#     preds.append(output[0].cpu().detach().numpy())\n",
        "\n",
        "df = pd.concat([pd.DataFrame(file_ids), pd.DataFrame.from_records(np.concatenate(preds))], axis = 1, names = titles)\n",
        "df.columns = titles\n",
        "df.to_csv(outfile, index = False)\n",
        "print(\"Written to csv file {}\".format(outfile))"
      ]
    },
    {
      "cell_type": "code",
      "execution_count": null,
      "metadata": {
        "colab": {
          "base_uri": "https://localhost:8080/",
          "height": 487
        },
        "id": "dL9EhdAo40si",
        "outputId": "f419dfb4-7033-4260-a8b9-9a5ac5af2706"
      },
      "outputs": [
        {
          "data": {
            "text/html": [
              "\n",
              "  <div id=\"df-2ca816e4-79c4-4d71-af4b-0f538f18b7be\">\n",
              "    <div class=\"colab-df-container\">\n",
              "      <div>\n",
              "<style scoped>\n",
              "    .dataframe tbody tr th:only-of-type {\n",
              "        vertical-align: middle;\n",
              "    }\n",
              "\n",
              "    .dataframe tbody tr th {\n",
              "        vertical-align: top;\n",
              "    }\n",
              "\n",
              "    .dataframe thead th {\n",
              "        text-align: right;\n",
              "    }\n",
              "</style>\n",
              "<table border=\"1\" class=\"dataframe\">\n",
              "  <thead>\n",
              "    <tr style=\"text-align: right;\">\n",
              "      <th></th>\n",
              "      <th>ID</th>\n",
              "      <th>FINGER_POS_1</th>\n",
              "      <th>FINGER_POS_2</th>\n",
              "      <th>FINGER_POS_3</th>\n",
              "      <th>FINGER_POS_4</th>\n",
              "      <th>FINGER_POS_5</th>\n",
              "      <th>FINGER_POS_6</th>\n",
              "      <th>FINGER_POS_7</th>\n",
              "      <th>FINGER_POS_8</th>\n",
              "      <th>FINGER_POS_9</th>\n",
              "      <th>FINGER_POS_10</th>\n",
              "      <th>FINGER_POS_11</th>\n",
              "      <th>FINGER_POS_12</th>\n",
              "    </tr>\n",
              "  </thead>\n",
              "  <tbody>\n",
              "    <tr>\n",
              "      <th>0</th>\n",
              "      <td>146</td>\n",
              "      <td>0.049949</td>\n",
              "      <td>0.052382</td>\n",
              "      <td>0.120513</td>\n",
              "      <td>0.055146</td>\n",
              "      <td>0.000273</td>\n",
              "      <td>0.116482</td>\n",
              "      <td>0.067199</td>\n",
              "      <td>-0.053297</td>\n",
              "      <td>0.102544</td>\n",
              "      <td>0.050549</td>\n",
              "      <td>0.032086</td>\n",
              "      <td>-0.044161</td>\n",
              "    </tr>\n",
              "    <tr>\n",
              "      <th>1</th>\n",
              "      <td>1474</td>\n",
              "      <td>0.044438</td>\n",
              "      <td>0.053474</td>\n",
              "      <td>0.120828</td>\n",
              "      <td>0.037784</td>\n",
              "      <td>-0.000080</td>\n",
              "      <td>0.125113</td>\n",
              "      <td>0.037577</td>\n",
              "      <td>-0.056280</td>\n",
              "      <td>0.128869</td>\n",
              "      <td>0.053176</td>\n",
              "      <td>0.042141</td>\n",
              "      <td>-0.036849</td>\n",
              "    </tr>\n",
              "    <tr>\n",
              "      <th>2</th>\n",
              "      <td>190</td>\n",
              "      <td>0.049199</td>\n",
              "      <td>0.052962</td>\n",
              "      <td>0.122678</td>\n",
              "      <td>0.082618</td>\n",
              "      <td>-0.002069</td>\n",
              "      <td>0.094010</td>\n",
              "      <td>0.045188</td>\n",
              "      <td>-0.040969</td>\n",
              "      <td>-0.017099</td>\n",
              "      <td>0.060214</td>\n",
              "      <td>0.038496</td>\n",
              "      <td>-0.039771</td>\n",
              "    </tr>\n",
              "    <tr>\n",
              "      <th>3</th>\n",
              "      <td>1544</td>\n",
              "      <td>0.047385</td>\n",
              "      <td>0.053092</td>\n",
              "      <td>0.112071</td>\n",
              "      <td>0.061520</td>\n",
              "      <td>-0.001804</td>\n",
              "      <td>0.101508</td>\n",
              "      <td>0.073931</td>\n",
              "      <td>-0.052448</td>\n",
              "      <td>0.097279</td>\n",
              "      <td>0.048981</td>\n",
              "      <td>0.050606</td>\n",
              "      <td>-0.026215</td>\n",
              "    </tr>\n",
              "    <tr>\n",
              "      <th>4</th>\n",
              "      <td>952</td>\n",
              "      <td>0.057916</td>\n",
              "      <td>0.051814</td>\n",
              "      <td>0.110039</td>\n",
              "      <td>0.077338</td>\n",
              "      <td>-0.001631</td>\n",
              "      <td>0.095259</td>\n",
              "      <td>0.089907</td>\n",
              "      <td>-0.040567</td>\n",
              "      <td>0.027763</td>\n",
              "      <td>0.058488</td>\n",
              "      <td>0.052136</td>\n",
              "      <td>-0.021543</td>\n",
              "    </tr>\n",
              "    <tr>\n",
              "      <th>...</th>\n",
              "      <td>...</td>\n",
              "      <td>...</td>\n",
              "      <td>...</td>\n",
              "      <td>...</td>\n",
              "      <td>...</td>\n",
              "      <td>...</td>\n",
              "      <td>...</td>\n",
              "      <td>...</td>\n",
              "      <td>...</td>\n",
              "      <td>...</td>\n",
              "      <td>...</td>\n",
              "      <td>...</td>\n",
              "      <td>...</td>\n",
              "    </tr>\n",
              "    <tr>\n",
              "      <th>844</th>\n",
              "      <td>2647</td>\n",
              "      <td>0.045396</td>\n",
              "      <td>0.054515</td>\n",
              "      <td>0.125953</td>\n",
              "      <td>0.070016</td>\n",
              "      <td>-0.002723</td>\n",
              "      <td>0.098490</td>\n",
              "      <td>0.075598</td>\n",
              "      <td>-0.044305</td>\n",
              "      <td>0.039550</td>\n",
              "      <td>0.051826</td>\n",
              "      <td>0.040719</td>\n",
              "      <td>-0.028590</td>\n",
              "    </tr>\n",
              "    <tr>\n",
              "      <th>845</th>\n",
              "      <td>3970</td>\n",
              "      <td>0.045581</td>\n",
              "      <td>0.053086</td>\n",
              "      <td>0.121230</td>\n",
              "      <td>0.074780</td>\n",
              "      <td>0.000851</td>\n",
              "      <td>0.092464</td>\n",
              "      <td>0.070901</td>\n",
              "      <td>-0.046276</td>\n",
              "      <td>0.032689</td>\n",
              "      <td>0.056352</td>\n",
              "      <td>0.036889</td>\n",
              "      <td>-0.048131</td>\n",
              "    </tr>\n",
              "    <tr>\n",
              "      <th>846</th>\n",
              "      <td>1597</td>\n",
              "      <td>0.053151</td>\n",
              "      <td>0.053440</td>\n",
              "      <td>0.120700</td>\n",
              "      <td>0.066723</td>\n",
              "      <td>-0.002044</td>\n",
              "      <td>0.107142</td>\n",
              "      <td>0.054817</td>\n",
              "      <td>-0.056148</td>\n",
              "      <td>0.120138</td>\n",
              "      <td>0.049171</td>\n",
              "      <td>0.061153</td>\n",
              "      <td>-0.010331</td>\n",
              "    </tr>\n",
              "    <tr>\n",
              "      <th>847</th>\n",
              "      <td>421</td>\n",
              "      <td>0.048729</td>\n",
              "      <td>0.052783</td>\n",
              "      <td>0.118872</td>\n",
              "      <td>0.062439</td>\n",
              "      <td>-0.001681</td>\n",
              "      <td>0.104430</td>\n",
              "      <td>0.065293</td>\n",
              "      <td>-0.040294</td>\n",
              "      <td>0.011413</td>\n",
              "      <td>0.053153</td>\n",
              "      <td>0.043004</td>\n",
              "      <td>-0.034737</td>\n",
              "    </tr>\n",
              "    <tr>\n",
              "      <th>848</th>\n",
              "      <td>818</td>\n",
              "      <td>0.055348</td>\n",
              "      <td>0.052168</td>\n",
              "      <td>0.106835</td>\n",
              "      <td>0.062273</td>\n",
              "      <td>-0.000939</td>\n",
              "      <td>0.104132</td>\n",
              "      <td>0.077789</td>\n",
              "      <td>-0.045932</td>\n",
              "      <td>0.051581</td>\n",
              "      <td>0.063339</td>\n",
              "      <td>0.038163</td>\n",
              "      <td>-0.029083</td>\n",
              "    </tr>\n",
              "  </tbody>\n",
              "</table>\n",
              "<p>849 rows × 13 columns</p>\n",
              "</div>\n",
              "      <button class=\"colab-df-convert\" onclick=\"convertToInteractive('df-2ca816e4-79c4-4d71-af4b-0f538f18b7be')\"\n",
              "              title=\"Convert this dataframe to an interactive table.\"\n",
              "              style=\"display:none;\">\n",
              "        \n",
              "  <svg xmlns=\"http://www.w3.org/2000/svg\" height=\"24px\"viewBox=\"0 0 24 24\"\n",
              "       width=\"24px\">\n",
              "    <path d=\"M0 0h24v24H0V0z\" fill=\"none\"/>\n",
              "    <path d=\"M18.56 5.44l.94 2.06.94-2.06 2.06-.94-2.06-.94-.94-2.06-.94 2.06-2.06.94zm-11 1L8.5 8.5l.94-2.06 2.06-.94-2.06-.94L8.5 2.5l-.94 2.06-2.06.94zm10 10l.94 2.06.94-2.06 2.06-.94-2.06-.94-.94-2.06-.94 2.06-2.06.94z\"/><path d=\"M17.41 7.96l-1.37-1.37c-.4-.4-.92-.59-1.43-.59-.52 0-1.04.2-1.43.59L10.3 9.45l-7.72 7.72c-.78.78-.78 2.05 0 2.83L4 21.41c.39.39.9.59 1.41.59.51 0 1.02-.2 1.41-.59l7.78-7.78 2.81-2.81c.8-.78.8-2.07 0-2.86zM5.41 20L4 18.59l7.72-7.72 1.47 1.35L5.41 20z\"/>\n",
              "  </svg>\n",
              "      </button>\n",
              "      \n",
              "  <style>\n",
              "    .colab-df-container {\n",
              "      display:flex;\n",
              "      flex-wrap:wrap;\n",
              "      gap: 12px;\n",
              "    }\n",
              "\n",
              "    .colab-df-convert {\n",
              "      background-color: #E8F0FE;\n",
              "      border: none;\n",
              "      border-radius: 50%;\n",
              "      cursor: pointer;\n",
              "      display: none;\n",
              "      fill: #1967D2;\n",
              "      height: 32px;\n",
              "      padding: 0 0 0 0;\n",
              "      width: 32px;\n",
              "    }\n",
              "\n",
              "    .colab-df-convert:hover {\n",
              "      background-color: #E2EBFA;\n",
              "      box-shadow: 0px 1px 2px rgba(60, 64, 67, 0.3), 0px 1px 3px 1px rgba(60, 64, 67, 0.15);\n",
              "      fill: #174EA6;\n",
              "    }\n",
              "\n",
              "    [theme=dark] .colab-df-convert {\n",
              "      background-color: #3B4455;\n",
              "      fill: #D2E3FC;\n",
              "    }\n",
              "\n",
              "    [theme=dark] .colab-df-convert:hover {\n",
              "      background-color: #434B5C;\n",
              "      box-shadow: 0px 1px 3px 1px rgba(0, 0, 0, 0.15);\n",
              "      filter: drop-shadow(0px 1px 2px rgba(0, 0, 0, 0.3));\n",
              "      fill: #FFFFFF;\n",
              "    }\n",
              "  </style>\n",
              "\n",
              "      <script>\n",
              "        const buttonEl =\n",
              "          document.querySelector('#df-2ca816e4-79c4-4d71-af4b-0f538f18b7be button.colab-df-convert');\n",
              "        buttonEl.style.display =\n",
              "          google.colab.kernel.accessAllowed ? 'block' : 'none';\n",
              "\n",
              "        async function convertToInteractive(key) {\n",
              "          const element = document.querySelector('#df-2ca816e4-79c4-4d71-af4b-0f538f18b7be');\n",
              "          const dataTable =\n",
              "            await google.colab.kernel.invokeFunction('convertToInteractive',\n",
              "                                                     [key], {});\n",
              "          if (!dataTable) return;\n",
              "\n",
              "          const docLinkHtml = 'Like what you see? Visit the ' +\n",
              "            '<a target=\"_blank\" href=https://colab.research.google.com/notebooks/data_table.ipynb>data table notebook</a>'\n",
              "            + ' to learn more about interactive tables.';\n",
              "          element.innerHTML = '';\n",
              "          dataTable['output_type'] = 'display_data';\n",
              "          await google.colab.output.renderOutput(dataTable, element);\n",
              "          const docLink = document.createElement('div');\n",
              "          docLink.innerHTML = docLinkHtml;\n",
              "          element.appendChild(docLink);\n",
              "        }\n",
              "      </script>\n",
              "    </div>\n",
              "  </div>\n",
              "  "
            ],
            "text/plain": [
              "       ID  FINGER_POS_1  FINGER_POS_2  FINGER_POS_3  FINGER_POS_4  \\\n",
              "0     146      0.049949      0.052382      0.120513      0.055146   \n",
              "1    1474      0.044438      0.053474      0.120828      0.037784   \n",
              "2     190      0.049199      0.052962      0.122678      0.082618   \n",
              "3    1544      0.047385      0.053092      0.112071      0.061520   \n",
              "4     952      0.057916      0.051814      0.110039      0.077338   \n",
              "..    ...           ...           ...           ...           ...   \n",
              "844  2647      0.045396      0.054515      0.125953      0.070016   \n",
              "845  3970      0.045581      0.053086      0.121230      0.074780   \n",
              "846  1597      0.053151      0.053440      0.120700      0.066723   \n",
              "847   421      0.048729      0.052783      0.118872      0.062439   \n",
              "848   818      0.055348      0.052168      0.106835      0.062273   \n",
              "\n",
              "     FINGER_POS_5  FINGER_POS_6  FINGER_POS_7  FINGER_POS_8  FINGER_POS_9  \\\n",
              "0        0.000273      0.116482      0.067199     -0.053297      0.102544   \n",
              "1       -0.000080      0.125113      0.037577     -0.056280      0.128869   \n",
              "2       -0.002069      0.094010      0.045188     -0.040969     -0.017099   \n",
              "3       -0.001804      0.101508      0.073931     -0.052448      0.097279   \n",
              "4       -0.001631      0.095259      0.089907     -0.040567      0.027763   \n",
              "..            ...           ...           ...           ...           ...   \n",
              "844     -0.002723      0.098490      0.075598     -0.044305      0.039550   \n",
              "845      0.000851      0.092464      0.070901     -0.046276      0.032689   \n",
              "846     -0.002044      0.107142      0.054817     -0.056148      0.120138   \n",
              "847     -0.001681      0.104430      0.065293     -0.040294      0.011413   \n",
              "848     -0.000939      0.104132      0.077789     -0.045932      0.051581   \n",
              "\n",
              "     FINGER_POS_10  FINGER_POS_11  FINGER_POS_12  \n",
              "0         0.050549       0.032086      -0.044161  \n",
              "1         0.053176       0.042141      -0.036849  \n",
              "2         0.060214       0.038496      -0.039771  \n",
              "3         0.048981       0.050606      -0.026215  \n",
              "4         0.058488       0.052136      -0.021543  \n",
              "..             ...            ...            ...  \n",
              "844       0.051826       0.040719      -0.028590  \n",
              "845       0.056352       0.036889      -0.048131  \n",
              "846       0.049171       0.061153      -0.010331  \n",
              "847       0.053153       0.043004      -0.034737  \n",
              "848       0.063339       0.038163      -0.029083  \n",
              "\n",
              "[849 rows x 13 columns]"
            ]
          },
          "execution_count": 47,
          "metadata": {},
          "output_type": "execute_result"
        }
      ],
      "source": [
        "df"
      ]
    }
  ],
  "metadata": {
    "accelerator": "GPU",
    "colab": {
      "provenance": []
    },
    "gpuClass": "premium",
    "kernelspec": {
      "display_name": "Python 3",
      "language": "python",
      "name": "python3"
    },
    "language_info": {
      "codemirror_mode": {
        "name": "ipython",
        "version": 3
      },
      "file_extension": ".py",
      "mimetype": "text/x-python",
      "name": "python",
      "nbconvert_exporter": "python",
      "pygments_lexer": "ipython3",
      "version": "3.7.12"
    },
    "vscode": {
      "interpreter": {
        "hash": "0aceed28e31bdb2de643565d9efcb60d1f00a1255bbdd312be5ef8641fc2c11d"
      }
    }
  },
  "nbformat": 4,
  "nbformat_minor": 0
}
